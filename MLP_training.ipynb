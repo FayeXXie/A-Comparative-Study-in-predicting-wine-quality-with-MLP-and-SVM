{
 "cells": [
  {
   "cell_type": "markdown",
   "id": "c9cf563d",
   "metadata": {},
   "source": [
    "# MLP"
   ]
  },
  {
   "cell_type": "markdown",
   "id": "ab81511a",
   "metadata": {},
   "source": [
    "# 0. Setup: load modules and define functions"
   ]
  },
  {
   "cell_type": "code",
   "execution_count": 2,
   "id": "a93a5f51",
   "metadata": {},
   "outputs": [],
   "source": [
    "# Import packages\n",
    "\n",
    "# Read and prepare dataset\n",
    "import numpy as np\n",
    "import pandas as pd\n",
    "from sklearn.preprocessing import StandardScaler\n",
    "from imblearn.over_sampling import SMOTE\n",
    "\n",
    "# For model training\n",
    "from sklearn.neural_network import MLPClassifier\n",
    "from sklearn.model_selection import RandomizedSearchCV, cross_val_predict\n",
    "from numpy.random import randint\n",
    "import random\n",
    "\n",
    "# For model evaluation\n",
    "from sklearn.metrics import accuracy_score, confusion_matrix, classification_report\n",
    "import matplotlib.pyplot as plt\n",
    "import seaborn as sns\n",
    "import time\n",
    "\n",
    "# Save and load model\n",
    "from joblib import dump, load"
   ]
  },
  {
   "cell_type": "code",
   "execution_count": 4,
   "id": "3c23f5fe",
   "metadata": {},
   "outputs": [],
   "source": [
    "# For loading and preprocessing data\n",
    "def prepare_data(csv):\n",
    "    \"\"\"\n",
    "    Read csv and returns: \n",
    "    X_train: full no-oversampled features, \n",
    "    y_train: no-oversampled labels, \n",
    "    X_train_os: full oversampled features, \n",
    "    y_train_os: oversampled features, \n",
    "    X_train_os_sub: selected, oversampled, standardized features, \n",
    "    y_train_os_sub: oversampled features, same as y_train_os, just for easier use.\n",
    "    \"\"\"\n",
    "    # 1.Read data\n",
    "    train_df = pd.read_csv(csv)\n",
    "\n",
    "    # 2. Split X, y\n",
    "    X = train_df.iloc[:, :12]\n",
    "    y_train = train_df.iloc[:, 12]\n",
    "\n",
    "    # 3. Perform feature scaling\n",
    "    scaler = StandardScaler()\n",
    "    X_train = scaler.fit_transform(X)\n",
    "    \n",
    "    # 4. SMOTE\n",
    "    smote = SMOTE(sampling_strategy='minority', random_state=66)\n",
    "    X_train_os, y_train_os = smote.fit_resample(X, y_train)\n",
    "    scaler = StandardScaler()\n",
    "    X_train_os = scaler.fit_transform(X_train_os)\n",
    "    \n",
    "    # 5. Feature Selection\n",
    "    X_train_os_sub, y_train_os_sub = smote.fit_resample(train_df.iloc[:, [0,1,2,3,4,6,7,10,11]], \n",
    "                                                train_df.iloc[:, 12])\n",
    "    X_train_os_sub = scaler.fit_transform(X_train_os_sub)\n",
    "    \n",
    "    return X_train, y_train, X_train_os, y_train_os, X_train_os_sub, y_train_os_sub\n",
    "\n",
    "# ref: https://www.datacamp.com/blog/classification-machine-learning"
   ]
  },
  {
   "cell_type": "code",
   "execution_count": 5,
   "id": "0afa3a04",
   "metadata": {},
   "outputs": [],
   "source": [
    "# For fitting and evaluating MLP\n",
    "# the \"default\" hyperparameter is from pair coursework\n",
    "def train_MLP(X, y, hidden_layer_sizes, lr=0.1, momentum=0, activation='logistic'):\n",
    "    \"\"\"\n",
    "    X: features, e.g. X_train\n",
    "    y: labels, e.g. y_train(no need to one-hot encoding)\n",
    "    hidden_layer_sizes: e.g.(8,8,6)\n",
    "    \"\"\"\n",
    "    MLP = MLPClassifier(hidden_layer_sizes=hidden_layer_sizes, \n",
    "                        activation=activation,\n",
    "                        solver='sgd',\n",
    "                        learning_rate_init = lr,\n",
    "                        early_stopping=True,\n",
    "                        random_state=431, \n",
    "                        max_iter=200,\n",
    "                        warm_start=True,\n",
    "                        momentum=momentum)\n",
    "    T0 = time.time()\n",
    "    y_pred_cv = cross_val_predict(MLP, X, y, cv=5)\n",
    "    T1 = time.time()\n",
    "    training_time = T1-T0\n",
    "    \n",
    "    # Calculate and display results\n",
    "    acc = accuracy_score(y, y_pred_cv)\n",
    "    cm = confusion_matrix(y, y_pred_cv)\n",
    "    print(f\"Acc: {acc:.4f}\")\n",
    "    print(f\"Training Time: {training_time:.4f}\")\n",
    "    print(\"Evaluation with cross-validation\")\n",
    "    print(\"\\nClassification Report:\")\n",
    "    print(classification_report(y, y_pred_cv))\n",
    "    plt.figure(figsize=(3, 3))\n",
    "    sns.heatmap(cm, annot=True, cmap='Blues', fmt='d', cbar=False)\n",
    "    plt.xlabel('Predicted')\n",
    "    plt.ylabel('True')\n",
    "    plt.title('CM')\n",
    "    plt.show()\n",
    "    \n",
    "    return MLP, acc, training_time\n",
    "\n",
    "# Ref: https://scikit-learn.org/stable/modules/generated/sklearn.neural_network.MLPClassifier.html#sklearn.neural_network.MLPClassifier"
   ]
  },
  {
   "cell_type": "code",
   "execution_count": 25,
   "id": "749409d0",
   "metadata": {},
   "outputs": [],
   "source": [
    "# For random search tuning\n",
    "def tune_MLP(X, y, layer):\n",
    "    \"\"\"\n",
    "    X: features,e.g. X_train\n",
    "    y: labels, e.g. y_train\n",
    "    layer: 1, 2, 3 \"\"\"\n",
    "\n",
    "    # Create MLP model\n",
    "    MLP = MLPClassifier(\n",
    "        random_state=431, \n",
    "        early_stopping=True,\n",
    "        verbose=0,\n",
    "        max_iter=300\n",
    "    )\n",
    "    \n",
    "    # Define hyperparameter grid for sgd \n",
    "    layer_1 = (randint(10, 90),)\n",
    "    layer_2 = (randint(10, 90), randint(10, 90))\n",
    "    layer_3 = (randint(10, 90), randint(10, 90), randint(10, 90))\n",
    "    \n",
    "    if layer == 1:\n",
    "        layer = layer_1\n",
    "    elif layer == 2:\n",
    "        layer = layer_2\n",
    "    elif layer == 3:\n",
    "        layer = layer_3\n",
    "\n",
    "    param_dist_sgd = {\n",
    "        'hidden_layer_sizes': [layer],\n",
    "#         'solver': ['sgd', 'adam'],\n",
    "        'solver': ['sgd'],\n",
    "        'activation': ['relu', 'tanh', 'logistic'],\n",
    "        'learning_rate_init': [random.uniform(0.001, 0.1) for _ in range(100)],\n",
    "        'alpha': [0.0001, 0.001],\n",
    "        'momentum': [random.uniform(0.9, 0.99) for _ in range(100)]\n",
    "    }\n",
    "\n",
    "    # Create RandomizedSearchCV\n",
    "    random_search = RandomizedSearchCV(\n",
    "        estimator=MLP,\n",
    "        param_distributions=param_dist_sgd,\n",
    "        n_iter=15,  \n",
    "        cv=5,  \n",
    "        scoring='accuracy',  \n",
    "#         random_state=431,\n",
    "        verbose=0,\n",
    "        n_jobs=-1\n",
    "    )\n",
    "\n",
    "    # Perform random search\n",
    "    T0 = time.time()\n",
    "    random_search.fit(X, y)\n",
    "    T1 = time.time()\n",
    "    training_time = T1-T0\n",
    "\n",
    "    # Check the best model and the best params\n",
    "    best_estimator = random_search.best_estimator_\n",
    "    best_params = random_search.best_params_\n",
    "    best_score = random_search.best_score_\n",
    "    print(f\"Best Parameters: {best_params}\")\n",
    "    print(f\"Best Acc Score: {best_score:.4f}\")\n",
    "    print(f\"Training time: {training_time:.4f}\")\n",
    "    \n",
    "    # Check performance\n",
    "    y_pred_cv = cross_val_predict(best_estimator, X, y, cv=5)\n",
    "    print(\"\\nClassification Report:\")\n",
    "    print(classification_report(y, y_pred_cv))\n",
    "\n",
    "    # Plot confusion matrix\n",
    "    cm = confusion_matrix(y, y_pred_cv)\n",
    "    plt.figure(figsize=(3, 3))\n",
    "    sns.heatmap(cm, annot=True, fmt='d', cmap='Blues', cbar=False)\n",
    "    plt.xlabel('Predicted')\n",
    "    plt.ylabel('True')\n",
    "    plt.title('CM')\n",
    "    plt.show()\n",
    "\n",
    "    return best_estimator, best_score, training_time, best_params"
   ]
  },
  {
   "cell_type": "code",
   "execution_count": 35,
   "id": "8eeca226",
   "metadata": {},
   "outputs": [],
   "source": [
    "# For testing on test set\n",
    "def final_test(csv, model):\n",
    "    \"\"\"\n",
    "    Test model on unseen test set.\n",
    "    \"\"\"\n",
    "    # 1. Read and prepare unseen test set\n",
    "    unseen_df = pd.read_csv(csv)\n",
    "    X_unseen = unseen_df.iloc[:, :12]\n",
    "    y_unseen = unseen_df.iloc[:, 12]\n",
    "\n",
    "    scaler = StandardScaler()\n",
    "    X_unseen = scaler.fit_transform(X_unseen)\n",
    "\n",
    "    # 2. Load model\n",
    "    model = load(model)\n",
    "    \n",
    "    # 3. Predict and evaluate on unseen TEST set\n",
    "    y_preds_test = model.predict(X_unseen)\n",
    "    cm_test = confusion_matrix(y_unseen, y_preds_test)\n",
    "\n",
    "    # 4. Display test results\n",
    "    print(\"Classification Report on Test Set\")\n",
    "    print(classification_report(y_unseen, y_preds_test))\n",
    "    # print(f\"Acc: {acc_test}, Precision: {precision_test}, Recall: {recall_test}\")\n",
    "    plt.figure(figsize=(3, 3))\n",
    "    sns.heatmap(cm_test, annot=True, cmap='Blues', fmt='d', cbar=False)\n",
    "    plt.xlabel('Predicted')\n",
    "    plt.ylabel('True')\n",
    "    plt.title('CM on test set')\n",
    "    plt.show()"
   ]
  },
  {
   "cell_type": "markdown",
   "id": "83b980ee",
   "metadata": {},
   "source": [
    "# 1. Read and prepare data sets"
   ]
  },
  {
   "cell_type": "code",
   "execution_count": 6,
   "id": "b502569f",
   "metadata": {},
   "outputs": [],
   "source": [
    "X_train, y_train, X_train_os, y_train_os, X_train_os_sub, y_train_os_sub = prepare_data('train.csv')\n"
   ]
  },
  {
   "cell_type": "markdown",
   "id": "2eb91e9c",
   "metadata": {},
   "source": [
    "# 2. Training"
   ]
  },
  {
   "cell_type": "markdown",
   "id": "76f45576",
   "metadata": {},
   "source": [
    "### 2.1. Train baseline MLP with 1-hidden-layer"
   ]
  },
  {
   "cell_type": "code",
   "execution_count": 7,
   "id": "b05098ed",
   "metadata": {},
   "outputs": [
    {
     "name": "stdout",
     "output_type": "stream",
     "text": [
      "Acc: 0.5688\n",
      "Training Time: 2.1346\n",
      "Evaluation with cross-validation\n",
      "\n",
      "Classification Report:\n",
      "              precision    recall  f1-score   support\n",
      "\n",
      "           0       0.63      0.65      0.64      1907\n",
      "           1       0.53      0.63      0.57      2269\n",
      "           2       0.55      0.29      0.38      1021\n",
      "\n",
      "    accuracy                           0.57      5197\n",
      "   macro avg       0.57      0.52      0.53      5197\n",
      "weighted avg       0.57      0.57      0.56      5197\n",
      "\n"
     ]
    },
    {
     "data": {
      "image/png": "[encoded data removed]",
      "text/plain": [
       "<Figure size 300x300 with 1 Axes>"
      ]
     },
     "metadata": {},
     "output_type": "display_data"
    }
   ],
   "source": [
    "# Fit baseline model\n",
    "MLP_baseline, acc_base,training_time_base = train_MLP(X_train, y_train, (10,))"
   ]
  },
  {
   "cell_type": "markdown",
   "id": "6ccfdbd7",
   "metadata": {},
   "source": [
    "### 2.2. Experiments: Try oversampling and Feature Selection on top of baseline\n",
    "as input-level tuning"
   ]
  },
  {
   "cell_type": "markdown",
   "id": "1fe97679",
   "metadata": {},
   "source": [
    "#### 2.2.1. Try SMOTE oversampling on top of baseline"
   ]
  },
  {
   "cell_type": "code",
   "execution_count": 8,
   "id": "7c226cb7",
   "metadata": {},
   "outputs": [
    {
     "name": "stdout",
     "output_type": "stream",
     "text": [
      "Acc: 0.5657\n",
      "Training Time: 1.6728\n",
      "Evaluation with cross-validation\n",
      "\n",
      "Classification Report:\n",
      "              precision    recall  f1-score   support\n",
      "\n",
      "           0       0.58      0.63      0.60      1907\n",
      "           1       0.47      0.34      0.39      2269\n",
      "           2       0.62      0.74      0.67      2269\n",
      "\n",
      "    accuracy                           0.57      6445\n",
      "   macro avg       0.55      0.57      0.56      6445\n",
      "weighted avg       0.55      0.57      0.55      6445\n",
      "\n"
     ]
    },
    {
     "data": {
      "image/png": "[encoded data removed]",
      "text/plain": [
       "<Figure size 300x300 with 1 Axes>"
      ]
     },
     "metadata": {},
     "output_type": "display_data"
    }
   ],
   "source": [
    "# Fit and evaluate MLP with oversampled training set\n",
    "MLP_OS, acc_OS,training_time_OS = train_MLP(X_train_os, y_train_os, (10,))"
   ]
  },
  {
   "cell_type": "markdown",
   "id": "f4fbe335",
   "metadata": {},
   "source": [
    "#### 2.2.2. Try Feature selection on top of SMOTE"
   ]
  },
  {
   "cell_type": "code",
   "execution_count": 9,
   "id": "ea77e220",
   "metadata": {},
   "outputs": [
    {
     "name": "stdout",
     "output_type": "stream",
     "text": [
      "Acc: 0.5694\n",
      "Training Time: 1.9621\n",
      "Evaluation with cross-validation\n",
      "\n",
      "Classification Report:\n",
      "              precision    recall  f1-score   support\n",
      "\n",
      "           0       0.59      0.67      0.63      1907\n",
      "           1       0.48      0.32      0.38      2269\n",
      "           2       0.60      0.74      0.66      2269\n",
      "\n",
      "    accuracy                           0.57      6445\n",
      "   macro avg       0.56      0.57      0.56      6445\n",
      "weighted avg       0.56      0.57      0.55      6445\n",
      "\n"
     ]
    },
    {
     "data": {
      "image/png": "[encoded data removed]",
      "text/plain": [
       "<Figure size 300x300 with 1 Axes>"
      ]
     },
     "metadata": {},
     "output_type": "display_data"
    }
   ],
   "source": [
    "# Fit and evaluate MLP with oversampled and feature selection training set\n",
    "MLP_sub, acc_sub,training_time_sub = train_MLP(X_train_os_sub, y_train_os_sub, (10,))"
   ]
  },
  {
   "cell_type": "markdown",
   "id": "167503a2",
   "metadata": {},
   "source": [
    "# 3. Hyperparameter tuning (with random search)\n",
    "hyperparameters:\n",
    "* number of hidden layers\n",
    "* number of hidden neurons\n",
    "* initial learning rate\n",
    "* weight decay\n",
    "* activation function"
   ]
  },
  {
   "cell_type": "code",
   "execution_count": 7,
   "id": "41dd04a9",
   "metadata": {},
   "outputs": [],
   "source": [
    "# Define lists to store intermediate models, performance and training_time\n",
    "model_names = []\n",
    "models = []\n",
    "accs = []\n",
    "training_times = []\n",
    "best_params = []"
   ]
  },
  {
   "cell_type": "markdown",
   "id": "91c5b488",
   "metadata": {},
   "source": [
    "## 3.1. One hidden layer * Three types of inputs"
   ]
  },
  {
   "cell_type": "code",
   "execution_count": 12,
   "id": "a08930bf",
   "metadata": {},
   "outputs": [
    {
     "name": "stdout",
     "output_type": "stream",
     "text": [
      "Best Parameters: {'solver': 'sgd', 'momentum': 0.9688715925972016, 'learning_rate_init': 0.03528650746259974, 'hidden_layer_sizes': (16,), 'alpha': 0.0001, 'activation': 'relu'}\n",
      "Best Acc Score: 0.5996\n",
      "Training time: 7.0662\n",
      "\n",
      "Classification Report:\n",
      "              precision    recall  f1-score   support\n",
      "\n",
      "           0       0.67      0.68      0.67      1907\n",
      "           1       0.55      0.62      0.59      2269\n",
      "           2       0.58      0.39      0.47      1021\n",
      "\n",
      "    accuracy                           0.60      5197\n",
      "   macro avg       0.60      0.57      0.58      5197\n",
      "weighted avg       0.60      0.60      0.60      5197\n",
      "\n"
     ]
    },
    {
     "data": {
      "image/png": "[encoded data removed]",
      "text/plain": [
       "<Figure size 300x300 with 1 Axes>"
      ]
     },
     "metadata": {},
     "output_type": "display_data"
    }
   ],
   "source": [
    "# Without OS, without Feature selection\n",
    "best_model_1l, best_score_1l, training_time_1l, best_params_1l = tune_MLP(X_train, \n",
    "                                                          y_train, \n",
    "                                                          1)\n",
    "\n",
    "model_names.append('best_model_1l')\n",
    "models.append(best_model_1l)\n",
    "accs.append(best_score_1l)\n",
    "training_times.append(training_time_1l)\n",
    "best_params.append(best_params_1l)"
   ]
  },
  {
   "cell_type": "code",
   "execution_count": 21,
   "id": "fe25e3cc",
   "metadata": {},
   "outputs": [
    {
     "name": "stdout",
     "output_type": "stream",
     "text": [
      "Best Parameters: {'solver': 'sgd', 'momentum': 0.9719179176871501, 'learning_rate_init': 0.06964211918149354, 'hidden_layer_sizes': (16,), 'alpha': 0.001, 'activation': 'logistic'}\n",
      "Best Acc Score: 0.6158\n",
      "Training time: 7.1840\n",
      "\n",
      "Classification Report:\n",
      "              precision    recall  f1-score   support\n",
      "\n",
      "           0       0.65      0.69      0.67      1907\n",
      "           1       0.51      0.42      0.46      2269\n",
      "           2       0.67      0.75      0.71      2269\n",
      "\n",
      "    accuracy                           0.62      6445\n",
      "   macro avg       0.61      0.62      0.61      6445\n",
      "weighted avg       0.61      0.62      0.61      6445\n",
      "\n"
     ]
    },
    {
     "data": {
      "image/png": "[encoded data removed]",
      "text/plain": [
       "<Figure size 300x300 with 1 Axes>"
      ]
     },
     "metadata": {},
     "output_type": "display_data"
    }
   ],
   "source": [
    "# With OS, Without feature selection\n",
    "best_model_1l_OS, best_score_1l_OS, training_time_1l_OS, best_params_1l_OS = tune_MLP(X_train_os, \n",
    "                                                                                      y_train_os, \n",
    "                                                                                      1)\n",
    "\n",
    "model_names.append('best_model_1l_OS')\n",
    "models.append(best_model_1l_OS)\n",
    "accs.append(best_score_1l_OS)\n",
    "training_times.append(training_time_1l_OS)\n",
    "best_params.append(best_params_1l_OS)"
   ]
  },
  {
   "cell_type": "code",
   "execution_count": 13,
   "id": "d354ab19",
   "metadata": {},
   "outputs": [
    {
     "name": "stdout",
     "output_type": "stream",
     "text": [
      "Best Parameters: {'solver': 'sgd', 'momentum': 0.9574105972182728, 'learning_rate_init': 0.09251916744165431, 'hidden_layer_sizes': (16,), 'alpha': 0.0001, 'activation': 'tanh'}\n",
      "Best Acc Score: 0.5971\n",
      "Training time: 6.2223\n",
      "\n",
      "Classification Report:\n",
      "              precision    recall  f1-score   support\n",
      "\n",
      "           0       0.66      0.64      0.65      1907\n",
      "           1       0.48      0.42      0.45      2269\n",
      "           2       0.64      0.74      0.68      2269\n",
      "\n",
      "    accuracy                           0.60      6445\n",
      "   macro avg       0.59      0.60      0.59      6445\n",
      "weighted avg       0.59      0.60      0.59      6445\n",
      "\n"
     ]
    },
    {
     "data": {
      "image/png": "[encoded data removed]",
      "text/plain": [
       "<Figure size 300x300 with 1 Axes>"
      ]
     },
     "metadata": {},
     "output_type": "display_data"
    }
   ],
   "source": [
    "# With OS, With feature selection\n",
    "best_model_1l_OS_sub, best_score_1l_OS_sub, training_time_1l_OS_sub, best_params_1l_OS_sub = tune_MLP(X_train_os_sub, \n",
    "                                                                                      y_train_os_sub, \n",
    "                                                                                      1)\n",
    "\n",
    "model_names.append('best_model_1l_OS_sub')\n",
    "models.append(best_model_1l_OS_sub)\n",
    "accs.append(best_score_1l_OS_sub)\n",
    "training_times.append(training_time_1l_OS_sub)\n",
    "best_params.append(best_params_1l_OS_sub)"
   ]
  },
  {
   "cell_type": "markdown",
   "id": "d52be3d5",
   "metadata": {},
   "source": [
    "## 3.2. Two hidden layer * Three types of inputs"
   ]
  },
  {
   "cell_type": "code",
   "execution_count": 14,
   "id": "3a704b1e",
   "metadata": {},
   "outputs": [
    {
     "name": "stdout",
     "output_type": "stream",
     "text": [
      "Best Parameters: {'solver': 'sgd', 'momentum': 0.9164165036676374, 'learning_rate_init': 0.06330334092629, 'hidden_layer_sizes': (60, 82), 'alpha': 0.001, 'activation': 'relu'}\n",
      "Best Acc Score: 0.6102\n",
      "Training time: 17.3341\n",
      "\n",
      "Classification Report:\n",
      "              precision    recall  f1-score   support\n",
      "\n",
      "           0       0.67      0.68      0.67      1907\n",
      "           1       0.57      0.62      0.59      2269\n",
      "           2       0.60      0.45      0.51      1021\n",
      "\n",
      "    accuracy                           0.61      5197\n",
      "   macro avg       0.61      0.58      0.59      5197\n",
      "weighted avg       0.61      0.61      0.61      5197\n",
      "\n"
     ]
    },
    {
     "data": {
      "image/png": "[encoded data removed]",
      "text/plain": [
       "<Figure size 300x300 with 1 Axes>"
      ]
     },
     "metadata": {},
     "output_type": "display_data"
    }
   ],
   "source": [
    "# Without OS, Without feature selection\n",
    "best_model_2l, best_score_2l, training_time_2l, best_params_2l = tune_MLP(X_train, \n",
    "                                                                          y_train, \n",
    "                                                                          2)\n",
    "\n",
    "model_names.append('best_model_2l')\n",
    "models.append(best_model_2l)\n",
    "accs.append(best_score_2l)\n",
    "training_times.append(training_time_2l)\n",
    "best_params.append(best_params_2l)"
   ]
  },
  {
   "cell_type": "code",
   "execution_count": 15,
   "id": "e64a19cc",
   "metadata": {},
   "outputs": [
    {
     "name": "stdout",
     "output_type": "stream",
     "text": [
      "Best Parameters: {'solver': 'sgd', 'momentum': 0.9688851330580956, 'learning_rate_init': 0.0295067808018034, 'hidden_layer_sizes': (60, 82), 'alpha': 0.0001, 'activation': 'relu'}\n",
      "Best Acc Score: 0.6641\n",
      "Training time: 33.4423\n",
      "\n",
      "Classification Report:\n",
      "              precision    recall  f1-score   support\n",
      "\n",
      "           0       0.67      0.68      0.68      1907\n",
      "           1       0.58      0.48      0.52      2269\n",
      "           2       0.72      0.84      0.77      2269\n",
      "\n",
      "    accuracy                           0.66      6445\n",
      "   macro avg       0.66      0.67      0.66      6445\n",
      "weighted avg       0.66      0.66      0.66      6445\n",
      "\n"
     ]
    },
    {
     "data": {
      "image/png": "[encoded data removed]",
      "text/plain": [
       "<Figure size 300x300 with 1 Axes>"
      ]
     },
     "metadata": {},
     "output_type": "display_data"
    }
   ],
   "source": [
    "# With OS, Without feature selection - try multiple rounds\n",
    "best_model_2l_OS, best_score_2l_OS, training_time_2l_OS, best_params_2l_OS = tune_MLP(X_train_os, \n",
    "                                                                                      y_train_os, \n",
    "                                                                                      2)\n",
    "\n",
    "model_names.append('best_model_2l_OS')\n",
    "models.append(best_model_2l_OS)\n",
    "accs.append(best_score_2l_OS)\n",
    "training_times.append(training_time_2l_OS)\n",
    "best_params.append(best_params_2l_OS)"
   ]
  },
  {
   "cell_type": "code",
   "execution_count": 16,
   "id": "950c9fc6",
   "metadata": {},
   "outputs": [
    {
     "name": "stdout",
     "output_type": "stream",
     "text": [
      "Best Parameters: {'solver': 'sgd', 'momentum': 0.9841212557604863, 'learning_rate_init': 0.07643609182577632, 'hidden_layer_sizes': (60, 82), 'alpha': 0.001, 'activation': 'tanh'}\n",
      "Best Acc Score: 0.6295\n",
      "Training time: 26.2508\n",
      "\n",
      "Classification Report:\n",
      "              precision    recall  f1-score   support\n",
      "\n",
      "           0       0.66      0.64      0.65      1907\n",
      "           1       0.53      0.49      0.51      2269\n",
      "           2       0.70      0.76      0.72      2269\n",
      "\n",
      "    accuracy                           0.63      6445\n",
      "   macro avg       0.63      0.63      0.63      6445\n",
      "weighted avg       0.63      0.63      0.63      6445\n",
      "\n"
     ]
    },
    {
     "data": {
      "image/png": "[encoded data removed]",
      "text/plain": [
       "<Figure size 300x300 with 1 Axes>"
      ]
     },
     "metadata": {},
     "output_type": "display_data"
    }
   ],
   "source": [
    "# With OS, With feature selection\n",
    "best_model_2l_OS_sub, best_score_2l_OS_sub, training_time_2l_OS_sub, best_params_2l_OS_sub = tune_MLP(X_train_os_sub, \n",
    "                                                                                      y_train_os_sub, \n",
    "                                                                                      2)\n",
    "\n",
    "model_names.append('best_model_2l_OS_sub')\n",
    "models.append(best_model_2l_OS_sub)\n",
    "accs.append(best_score_2l_OS_sub)\n",
    "training_times.append(training_time_2l_OS_sub)\n",
    "best_params.append(best_params_2l_OS_sub)"
   ]
  },
  {
   "cell_type": "markdown",
   "id": "6d2ba020",
   "metadata": {},
   "source": [
    "## 3.3. Three hidden layer * Three types of inputs"
   ]
  },
  {
   "cell_type": "code",
   "execution_count": 17,
   "id": "77e0a916",
   "metadata": {},
   "outputs": [
    {
     "name": "stdout",
     "output_type": "stream",
     "text": [
      "Best Parameters: {'solver': 'sgd', 'momentum': 0.9831825444336784, 'learning_rate_init': 0.02200197600100219, 'hidden_layer_sizes': (56, 70, 59), 'alpha': 0.001, 'activation': 'tanh'}\n",
      "Best Acc Score: 0.6188\n",
      "Training time: 22.5849\n",
      "\n",
      "Classification Report:\n",
      "              precision    recall  f1-score   support\n",
      "\n",
      "           0       0.68      0.70      0.69      1907\n",
      "           1       0.58      0.61      0.60      2269\n",
      "           2       0.58      0.48      0.53      1021\n",
      "\n",
      "    accuracy                           0.62      5197\n",
      "   macro avg       0.61      0.60      0.60      5197\n",
      "weighted avg       0.62      0.62      0.62      5197\n",
      "\n"
     ]
    },
    {
     "data": {
      "image/png": "[encoded data removed]",
      "text/plain": [
       "<Figure size 300x300 with 1 Axes>"
      ]
     },
     "metadata": {},
     "output_type": "display_data"
    }
   ],
   "source": [
    "# Without OS, Without feature selection\n",
    "best_model_3l, best_score_3l, training_time_3l, best_params_3l = tune_MLP(X_train, \n",
    "                                                                  y_train, \n",
    "                                                                  3)\n",
    "\n",
    "model_names.append('best_model_3l')\n",
    "models.append(best_model_3l)\n",
    "accs.append(best_score_3l)\n",
    "training_times.append(training_time_3l)\n",
    "best_params.append(best_params_3l)"
   ]
  },
  {
   "cell_type": "code",
   "execution_count": 18,
   "id": "897c40c3",
   "metadata": {},
   "outputs": [
    {
     "name": "stdout",
     "output_type": "stream",
     "text": [
      "Best Parameters: {'solver': 'sgd', 'momentum': 0.9735982417949322, 'learning_rate_init': 0.024401010290662214, 'hidden_layer_sizes': (56, 70, 59), 'alpha': 0.001, 'activation': 'tanh'}\n",
      "Best Acc Score: 0.6622\n",
      "Training time: 33.8389\n",
      "\n",
      "Classification Report:\n",
      "              precision    recall  f1-score   support\n",
      "\n",
      "           0       0.67      0.67      0.67      1907\n",
      "           1       0.57      0.51      0.54      2269\n",
      "           2       0.73      0.81      0.77      2269\n",
      "\n",
      "    accuracy                           0.66      6445\n",
      "   macro avg       0.66      0.66      0.66      6445\n",
      "weighted avg       0.66      0.66      0.66      6445\n",
      "\n"
     ]
    },
    {
     "data": {
      "image/png": "[encoded data removed]",
      "text/plain": [
       "<Figure size 300x300 with 1 Axes>"
      ]
     },
     "metadata": {},
     "output_type": "display_data"
    }
   ],
   "source": [
    "# With OS, Without feature selection\n",
    "best_model_3l_OS, best_score_3l_OS, training_time_3l_OS, best_params_3l_OS = tune_MLP(X_train_os, \n",
    "                                                                                      y_train_os, \n",
    "                                                                                      3)\n",
    "\n",
    "model_names.append('best_model_3l_OS')\n",
    "models.append(best_model_3l_OS)\n",
    "accs.append(best_score_3l_OS)\n",
    "training_times.append(training_time_3l_OS)\n",
    "best_params.append(best_params_3l_OS)"
   ]
  },
  {
   "cell_type": "code",
   "execution_count": 19,
   "id": "62568f74",
   "metadata": {},
   "outputs": [
    {
     "name": "stdout",
     "output_type": "stream",
     "text": [
      "Best Parameters: {'solver': 'sgd', 'momentum': 0.9649323029998674, 'learning_rate_init': 0.04719709322791683, 'hidden_layer_sizes': (56, 70, 59), 'alpha': 0.0001, 'activation': 'relu'}\n",
      "Best Acc Score: 0.6237\n",
      "Training time: 28.1180\n",
      "\n",
      "Classification Report:\n",
      "              precision    recall  f1-score   support\n",
      "\n",
      "           0       0.65      0.68      0.67      1907\n",
      "           1       0.52      0.42      0.47      2269\n",
      "           2       0.67      0.78      0.72      2269\n",
      "\n",
      "    accuracy                           0.62      6445\n",
      "   macro avg       0.62      0.63      0.62      6445\n",
      "weighted avg       0.61      0.62      0.62      6445\n",
      "\n"
     ]
    },
    {
     "data": {
      "image/png": "[encoded data removed]",
      "text/plain": [
       "<Figure size 300x300 with 1 Axes>"
      ]
     },
     "metadata": {},
     "output_type": "display_data"
    }
   ],
   "source": [
    "# With OS, With feature selection\n",
    "best_model_3l_OS_sub, best_score_3l_OS_sub, training_time_3l_OS_sub, best_params_3l_OS_sub = tune_MLP(X_train_os_sub, \n",
    "                                                                                      y_train_os_sub, \n",
    "                                                                                      3)\n",
    "\n",
    "model_names.append('best_model_3l_OS_sub')\n",
    "models.append(best_model_3l_OS_sub)\n",
    "accs.append(best_score_3l_OS_sub)\n",
    "training_times.append(training_time_3l_OS_sub)\n",
    "best_params.append(best_params_3l_OS_sub)"
   ]
  },
  {
   "cell_type": "markdown",
   "id": "ae780abb",
   "metadata": {},
   "source": [
    "## 3.4. Compare models"
   ]
  },
  {
   "cell_type": "code",
   "execution_count": 50,
   "id": "1bd7d3b2",
   "metadata": {},
   "outputs": [],
   "source": [
    "# Parse params dictionary into separate lists\n",
    "solver_list = []\n",
    "momentum_list = []\n",
    "learning_rate_init_list = []\n",
    "hidden_layer_sizes_list = []\n",
    "alpha_list = []\n",
    "activation_list = []\n",
    "\n",
    "for params in best_params:\n",
    "    solver_list.append(params['solver'])\n",
    "    momentum_list.append(params['momentum'])\n",
    "    learning_rate_init_list.append(params['learning_rate_init'])\n",
    "    hidden_layer_sizes_list.append(params['hidden_layer_sizes'])\n",
    "    alpha_list.append(params['alpha'])\n",
    "    activation_list.append(params['activation'])\n",
    "\n",
    "# Convert lists into df\n",
    "model_summary = pd.DataFrame({\n",
    "    'Model Name': model_names,\n",
    "    'Model': models,\n",
    "    'Acc_Val': accs,\n",
    "    'Training Time': training_times,\n",
    "    'Solver': solver_list,\n",
    "    'Momentum': momentum_list,\n",
    "    'Learning Rate Init': learning_rate_init_list,\n",
    "    'Hidden Layer Sizes': hidden_layer_sizes_list,\n",
    "    'Alpha': alpha_list,\n",
    "    'Activation': activation_list\n",
    "})\n",
    "\n",
    "# Save results to csv\n",
    "model_summary.to_csv(\"model_summary_MLP.csv\", index=False)"
   ]
  },
  {
   "cell_type": "markdown",
   "id": "512d27a9",
   "metadata": {},
   "source": [
    "## 3.5. Decide best model and save model"
   ]
  },
  {
   "cell_type": "code",
   "execution_count": 42,
   "id": "d8119bc4",
   "metadata": {},
   "outputs": [],
   "source": [
    "# Exactact the best final model\n",
    "best_index = model_summary['Acc_Val'].idxmax()\n",
    "best_model_final = model_summary['Model'][best_index]"
   ]
  },
  {
   "cell_type": "code",
   "execution_count": 43,
   "id": "51bf6f3e",
   "metadata": {},
   "outputs": [],
   "source": [
    "# Fit the best model on training set again and calculate training time\n",
    "t0 = time.time()\n",
    "best_model_final.fit(X_train_os, y_train_os)\n",
    "t1 = time.time()\n",
    "training_time = t1 - t0"
   ]
  },
  {
   "cell_type": "code",
   "execution_count": 48,
   "id": "114f2417",
   "metadata": {},
   "outputs": [
    {
     "data": {
      "text/plain": [
       "['best_MLP_v2.joblib']"
      ]
     },
     "execution_count": 48,
     "metadata": {},
     "output_type": "execute_result"
    }
   ],
   "source": [
    "# Save best MLP model\n",
    "dump(best_model_final, 'best_MLP_v2.joblib')\n",
    "\n",
    "# # Previous best model\n",
    "# dump(best_model_final, 'best_MLP.joblib')"
   ]
  },
  {
   "cell_type": "markdown",
   "id": "36b7bdda",
   "metadata": {},
   "source": [
    "## 4. Test on test set"
   ]
  },
  {
   "cell_type": "code",
   "execution_count": 51,
   "id": "9a208868",
   "metadata": {},
   "outputs": [
    {
     "name": "stdout",
     "output_type": "stream",
     "text": [
      "Classification Report on Test Set\n",
      "              precision    recall  f1-score   support\n",
      "\n",
      "           0       0.74      0.61      0.67       477\n",
      "           1       0.63      0.56      0.59       567\n",
      "           2       0.49      0.77      0.59       256\n",
      "\n",
      "    accuracy                           0.62      1300\n",
      "   macro avg       0.62      0.64      0.62      1300\n",
      "weighted avg       0.64      0.62      0.62      1300\n",
      "\n"
     ]
    },
    {
     "data": {
      "image/png": "[encoded data removed]",
      "text/plain": [
       "<Figure size 300x300 with 1 Axes>"
      ]
     },
     "metadata": {},
     "output_type": "display_data"
    }
   ],
   "source": [
    "final_test('unseen.csv', 'best_MLP.joblib')"
   ]
  }
 ],
 "metadata": {
  "kernelspec": {
   "display_name": "Python 3 (ipykernel)",
   "language": "python",
   "name": "python3"
  },
  "language_info": {
   "codemirror_mode": {
    "name": "ipython",
    "version": 3
   },
   "file_extension": ".py",
   "mimetype": "text/x-python",
   "name": "python",
   "nbconvert_exporter": "python",
   "pygments_lexer": "ipython3",
   "version": "3.8.18"
  }
 },
 "nbformat": 4,
 "nbformat_minor": 5
}
