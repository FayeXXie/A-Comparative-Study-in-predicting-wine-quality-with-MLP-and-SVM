{
 "cells": [
  {
   "cell_type": "markdown",
   "id": "c5fe8557",
   "metadata": {},
   "source": [
    "# SVM"
   ]
  },
  {
   "cell_type": "markdown",
   "id": "35646daf",
   "metadata": {},
   "source": [
    "## 0. Setup: import packages and define custom functions"
   ]
  },
  {
   "cell_type": "code",
   "execution_count": 1,
   "id": "d159878b",
   "metadata": {},
   "outputs": [],
   "source": [
    "# For loading data\n",
    "import pandas as pd\n",
    "import numpy as np\n",
    "import seaborn as sns\n",
    "import matplotlib.pyplot as plt\n",
    "\n",
    "# For training and tuning\n",
    "from sklearn.model_selection import train_test_split, RandomizedSearchCV, cross_val_predict, cross_val_score\n",
    "from sklearn.model_selection import RandomizedSearchCV, cross_val_predict\n",
    "from scipy.stats import uniform\n",
    "from imblearn.over_sampling import SMOTE\n",
    "from sklearn.preprocessing import StandardScaler, Normalizer, PolynomialFeatures\n",
    "from sklearn.svm import SVC\n",
    "from sklearn.metrics import accuracy_score, confusion_matrix, classification_report\n",
    "import time\n",
    "\n",
    "# For saving, loading model\n",
    "from joblib import dump, load"
   ]
  },
  {
   "cell_type": "code",
   "execution_count": 2,
   "id": "5f9a713f",
   "metadata": {},
   "outputs": [],
   "source": [
    "# For loading and preprocessing data\n",
    "def prepare_data(csv):\n",
    "    \"\"\"\n",
    "    Read csv and returns: \n",
    "    X_train: full no-oversampled features, \n",
    "    y_train: no-oversampled labels, \n",
    "    X_train_os: full oversampled features, \n",
    "    y_train_os: oversampled features, \n",
    "    X_train_os_sub: selected, oversampled, standardized features, \n",
    "    y_train_os_sub: oversampled features, same as y_train_os, just for easier use.\n",
    "    \"\"\"\n",
    "    # 1.Read data\n",
    "    train_df = pd.read_csv(csv)\n",
    "\n",
    "    # 2. Split X, y\n",
    "    X = train_df.iloc[:, :12]\n",
    "    y_train = train_df.iloc[:, 12]\n",
    "\n",
    "    # 3. Perform feature scaling\n",
    "    scaler = StandardScaler()\n",
    "    X_train = scaler.fit_transform(X)\n",
    "    \n",
    "    # 4. SMOTE\n",
    "    smote = SMOTE(sampling_strategy='minority', random_state=66)\n",
    "    X_train_os, y_train_os = smote.fit_resample(X, y_train)\n",
    "    scaler = StandardScaler()\n",
    "    X_train_os = scaler.fit_transform(X_train_os)\n",
    "    \n",
    "    # 5. Feature Selection\n",
    "    X_train_os_sub, y_train_os_sub = smote.fit_resample(train_df.iloc[:, [0,1,2,3,4,6,7,10,11]], \n",
    "                                                train_df.iloc[:, 12])\n",
    "    X_train_os_sub = scaler.fit_transform(X_train_os_sub)\n",
    "    \n",
    "    return X_train, y_train, X_train_os, y_train_os, X_train_os_sub, y_train_os_sub\n",
    "\n",
    "# ref: https://www.datacamp.com/blog/classification-machine-learning"
   ]
  },
  {
   "cell_type": "code",
   "execution_count": 3,
   "id": "80e85c48",
   "metadata": {},
   "outputs": [],
   "source": [
    "# For fitting and evaluating SVM\n",
    "def fit_evaluate_svm(X, y):\n",
    "    \"\"\"Fit and evaluate baseline model.\"\"\"\n",
    "    \n",
    "    # 1. Creat model\n",
    "    svm_baseline = SVC(random_state=66)\n",
    "\n",
    "    # 2. Fit and evaluate baseline model\n",
    "    T0_base = time.time()\n",
    "    y_pred_base = cross_val_predict(svm_baseline, X, y, cv=5)\n",
    "    T1_base = time.time()\n",
    "    training_time_base = T1_base - T0_base\n",
    "    acc = accuracy_score(y, y_pred_base)\n",
    "\n",
    "    # 3. Display metrics\n",
    "    print(\"Evaluation with cross-validation\")\n",
    "    print(\"Baseline Classification Report:\")\n",
    "    print(classification_report(y, y_pred_base))\n",
    "    print(f\"Baseline Training time: {training_time_base:.4f}\")\n",
    "\n",
    "    cm = confusion_matrix(y, y_pred_base)\n",
    "    plt.figure(figsize=(3, 3))\n",
    "    sns.heatmap(cm, annot=True, fmt='d', cmap='Blues', cbar=False)\n",
    "    plt.xlabel('Predicted')\n",
    "    plt.ylabel('True')\n",
    "    plt.title('CM for baseline SVM')\n",
    "    plt.show()\n",
    "    \n",
    "    return svm_baseline, acc,training_time_base"
   ]
  },
  {
   "cell_type": "code",
   "execution_count": 12,
   "id": "5855d65c",
   "metadata": {},
   "outputs": [],
   "source": [
    "# For performing RandomSearch\n",
    "def tune_SVM(X, y, lower_C, upper_C, lower_gamma, upper_gamma):\n",
    "    \"\"\"\n",
    "    Model-level tuning.\n",
    "    Uses random search. Hyperparameters being tuned include: C, gamma, kernel.\n",
    "    X: features,e.g. X_train_V2\n",
    "    y: labels, e.g. y_train_V2\n",
    "    returns best_estimator, best_score, training_time.\n",
    "    \"\"\"\n",
    "    \n",
    "    # Define hyperparameter grid\n",
    "    param_dist = {\n",
    "        'C': uniform(lower_C, upper_C),  \n",
    "        'gamma': uniform(lower_gamma, upper_gamma),\n",
    "        #'kernel': ['rbf', 'sigmoid'] #sigmoid generally performs worse, discard\n",
    "    }\n",
    "\n",
    "    # Create SVC model\n",
    "    svc = SVC()\n",
    "\n",
    "    # Create RandomizedSearchCV\n",
    "    random_search = RandomizedSearchCV(\n",
    "        estimator=svc,\n",
    "        param_distributions=param_dist,\n",
    "        n_iter=15,  \n",
    "        cv=5,  \n",
    "        scoring='accuracy',  \n",
    "        #random_state=66,\n",
    "        verbose=0,\n",
    "        n_jobs=-1)\n",
    "\n",
    "    # Perform random search\n",
    "    T0 = time.time()\n",
    "    random_search.fit(X, y)\n",
    "    T1 = time.time()\n",
    "    training_time = T1-T0\n",
    "    \n",
    "    # Check the best model and the best params\n",
    "    best_estimator = random_search.best_estimator_\n",
    "    best_params = random_search.best_params_\n",
    "    best_score = random_search.best_score_\n",
    "\n",
    "    print(f\"Best Parameters: {best_params}\")\n",
    "    print(f\"Best Acc Score: {best_score:.4f}\")\n",
    "    print(f\"Training time: {training_time:.4f}\")\n",
    "    \n",
    "    #Evaluate best model\n",
    "    y_pred_cv = cross_val_predict(best_estimator, X, y, cv=5)\n",
    "    print(\"\\nClassification Report:\")\n",
    "    print(classification_report(y, y_pred_cv))\n",
    "\n",
    "    # Plot confusion matrix\n",
    "    cm = confusion_matrix(y, y_pred_cv)\n",
    "    plt.figure(figsize=(3, 3))\n",
    "    sns.heatmap(cm, annot=True, fmt='d', cmap='Blues', cbar=False)\n",
    "    plt.xlabel('Predicted')\n",
    "    plt.ylabel('True')\n",
    "    plt.title('CM')\n",
    "    plt.show()\n",
    "\n",
    "    return best_estimator, best_score, training_time"
   ]
  },
  {
   "cell_type": "code",
   "execution_count": 5,
   "id": "12493911",
   "metadata": {},
   "outputs": [],
   "source": [
    "# For testing final model\n",
    "def final_test(csv, model):\n",
    "    \"\"\"Test model on unseen test set.\"\"\"\n",
    "    # 1. Read and prepare unseen test set\n",
    "    unseen_df = pd.read_csv(csv)\n",
    "    X_unseen = unseen_df.iloc[:, :12]\n",
    "    y_unseen = unseen_df.iloc[:, 12]\n",
    "\n",
    "    scaler = StandardScaler()\n",
    "    X_unseen = scaler.fit_transform(X_unseen)\n",
    "\n",
    "    # 2. Load model\n",
    "    model = load(model)\n",
    "    \n",
    "    # 3. Predict and evaluate on unseen TEST set\n",
    "    y_preds_test = model.predict(X_unseen)\n",
    "    cm_test = confusion_matrix(y_unseen, y_preds_test)\n",
    "\n",
    "    # 4. Display test results\n",
    "    print(\"Classification Report on Test Set\")\n",
    "    print(classification_report(y_unseen, y_preds_test))\n",
    "    plt.figure(figsize=(3, 3))\n",
    "    sns.heatmap(cm_test, annot=True, cmap='Blues', fmt='d', cbar=False)\n",
    "    plt.xlabel('Predicted')\n",
    "    plt.ylabel('True')\n",
    "    plt.title('CM on test set')\n",
    "    plt.show()"
   ]
  },
  {
   "cell_type": "markdown",
   "id": "4b012f4d",
   "metadata": {},
   "source": [
    "## 1. Prepare dataset"
   ]
  },
  {
   "cell_type": "code",
   "execution_count": 3,
   "id": "7dd666c5",
   "metadata": {},
   "outputs": [
    {
     "name": "stdout",
     "output_type": "stream",
     "text": [
      "(5197, 12) (5197,) (6445, 12) (6445,) (6445, 9) (6445,)\n"
     ]
    }
   ],
   "source": [
    "# read, oversample and feature selection on dataset\n",
    "X_train, y_train, X_train_os, y_train_os, X_train_os_sub, y_train_os_sub = prepare_data('train.csv')\n",
    "\n",
    "# Check datasets shape\n",
    "print(X_train.shape, y_train.shape, \n",
    "      X_train_os.shape, y_train_os.shape, \n",
    "      X_train_os_sub.shape, y_train_os_sub.shape)"
   ]
  },
  {
   "cell_type": "code",
   "execution_count": 7,
   "id": "55479065",
   "metadata": {},
   "outputs": [],
   "source": [
    "# Define lists to store intermediate models, performance and training_time\n",
    "model_names = []\n",
    "models = []\n",
    "accs = []\n",
    "training_times = []"
   ]
  },
  {
   "cell_type": "markdown",
   "id": "4665bd22",
   "metadata": {},
   "source": [
    "## 2. Training"
   ]
  },
  {
   "cell_type": "markdown",
   "id": "d9375945",
   "metadata": {},
   "source": [
    "### 2.1 Fit baseline model"
   ]
  },
  {
   "cell_type": "code",
   "execution_count": 8,
   "id": "8197b501",
   "metadata": {},
   "outputs": [
    {
     "name": "stdout",
     "output_type": "stream",
     "text": [
      "Evaluation with cross-validation\n",
      "Baseline Classification Report:\n",
      "              precision    recall  f1-score   support\n",
      "\n",
      "           0       0.69      0.68      0.69      1907\n",
      "           1       0.56      0.68      0.61      2269\n",
      "           2       0.64      0.35      0.46      1021\n",
      "\n",
      "    accuracy                           0.62      5197\n",
      "   macro avg       0.63      0.57      0.59      5197\n",
      "weighted avg       0.62      0.62      0.61      5197\n",
      "\n",
      "Baseline Training time: 7.2536\n"
     ]
    },
    {
     "data": {
      "image/png": "[encoded data removed]",
      "text/plain": [
       "<Figure size 300x300 with 1 Axes>"
      ]
     },
     "metadata": {},
     "output_type": "display_data"
    }
   ],
   "source": [
    "# Fit and evaluate baseline SVM\n",
    "svm_baseline, acc_base, training_time_base = fit_evaluate_svm(X_train, y_train)\n",
    "\n",
    "model_names.append('svm_baseline')\n",
    "models.append(svm_baseline)\n",
    "accs.append(acc_base)\n",
    "training_times.append(training_time_base)"
   ]
  },
  {
   "cell_type": "markdown",
   "id": "d7870f04",
   "metadata": {},
   "source": [
    "### 2.2. Experiments: Try SMOTE, feature selection\n",
    "as data-level tuning"
   ]
  },
  {
   "cell_type": "markdown",
   "id": "858510bc",
   "metadata": {},
   "source": [
    "#### 2.2.1. Try SMOTE oversampling on top of baseline"
   ]
  },
  {
   "cell_type": "code",
   "execution_count": 9,
   "id": "552fbe05",
   "metadata": {},
   "outputs": [
    {
     "name": "stdout",
     "output_type": "stream",
     "text": [
      "Evaluation with cross-validation\n",
      "Baseline Classification Report:\n",
      "              precision    recall  f1-score   support\n",
      "\n",
      "           0       0.68      0.68      0.68      1907\n",
      "           1       0.53      0.44      0.48      2269\n",
      "           2       0.68      0.78      0.73      2269\n",
      "\n",
      "    accuracy                           0.63      6445\n",
      "   macro avg       0.63      0.64      0.63      6445\n",
      "weighted avg       0.63      0.63      0.63      6445\n",
      "\n",
      "Baseline Training time: 10.3805\n"
     ]
    },
    {
     "data": {
      "image/png": "[encoded data removed]",
      "text/plain": [
       "<Figure size 300x300 with 1 Axes>"
      ]
     },
     "metadata": {},
     "output_type": "display_data"
    }
   ],
   "source": [
    "# Fit and evaluate SVM with oversampled training set\n",
    "svm_SMOTE, acc_SMOTE, training_time_SMOTE =fit_evaluate_svm(X_train_os, y_train_os)\n",
    "\n",
    "model_names.append('svm_SMOTE')\n",
    "models.append(svm_SMOTE)\n",
    "accs.append(acc_SMOTE)\n",
    "training_times.append(training_time_SMOTE)"
   ]
  },
  {
   "cell_type": "markdown",
   "id": "93efd0ed",
   "metadata": {},
   "source": [
    "#### 2.2.2. Try Feature selection on top of SMOTE"
   ]
  },
  {
   "cell_type": "code",
   "execution_count": 10,
   "id": "a2776814",
   "metadata": {},
   "outputs": [
    {
     "name": "stdout",
     "output_type": "stream",
     "text": [
      "Evaluation with cross-validation\n",
      "Baseline Classification Report:\n",
      "              precision    recall  f1-score   support\n",
      "\n",
      "           0       0.66      0.64      0.65      1907\n",
      "           1       0.50      0.41      0.45      2269\n",
      "           2       0.64      0.77      0.70      2269\n",
      "\n",
      "    accuracy                           0.61      6445\n",
      "   macro avg       0.60      0.61      0.60      6445\n",
      "weighted avg       0.60      0.61      0.60      6445\n",
      "\n",
      "Baseline Training time: 10.1010\n"
     ]
    },
    {
     "data": {
      "image/png": "[encoded data removed]",
      "text/plain": [
       "<Figure size 300x300 with 1 Axes>"
      ]
     },
     "metadata": {},
     "output_type": "display_data"
    }
   ],
   "source": [
    "# Fit and evaluate SVM with oversampled and selected features training set\n",
    "svm_sub, acc_sub, training_time_sub =fit_evaluate_svm(X_train_os_sub, y_train_os_sub)\n",
    "\n",
    "model_names.append('svm_sub')\n",
    "models.append(svm_sub)\n",
    "accs.append(acc_sub)\n",
    "training_times.append(training_time_sub)"
   ]
  },
  {
   "cell_type": "markdown",
   "id": "e2691d26",
   "metadata": {},
   "source": [
    "## 3. Hyperparameter Tuning and Model Selection\n",
    "* Based on experiments, I decided to use oversampled training set with full features. \n",
    "* For hyperparameter tuning, selected hyperparameters include \"C\", kernel, gamma.\n",
    "* Search method: random search.\n",
    "* Validation: 5-fold cross-validation."
   ]
  },
  {
   "cell_type": "markdown",
   "id": "acb239f5",
   "metadata": {},
   "source": [
    "### 3.1. Try and iterate hyperparameters with RamdomSearchCV"
   ]
  },
  {
   "cell_type": "code",
   "execution_count": 13,
   "id": "431fcc2a",
   "metadata": {},
   "outputs": [
    {
     "name": "stdout",
     "output_type": "stream",
     "text": [
      "Best Parameters: {'C': 1.015847611445441, 'gamma': 0.9192673847220937}\n",
      "Best Acc Score: 0.7173\n",
      "Training time: 45.1699\n",
      "\n",
      "Classification Report:\n",
      "              precision    recall  f1-score   support\n",
      "\n",
      "           0       0.70      0.66      0.68      1907\n",
      "           1       0.63      0.63      0.63      2269\n",
      "           2       0.82      0.85      0.83      2269\n",
      "\n",
      "    accuracy                           0.72      6445\n",
      "   macro avg       0.71      0.71      0.71      6445\n",
      "weighted avg       0.72      0.72      0.72      6445\n",
      "\n"
     ]
    },
    {
     "data": {
      "image/png": "[encoded data removed]",
      "text/plain": [
       "<Figure size 300x300 with 1 Axes>"
      ]
     },
     "metadata": {},
     "output_type": "display_data"
    }
   ],
   "source": [
    "# Perform random search - round 1 - start from small C and gamma\n",
    "\n",
    "lower_C=0.1\n",
    "upper_C=1\n",
    "lower_gamma=0.1 \n",
    "upper_gamma=1\n",
    "best_model_1, best_score_1, training_time_1 = tune_SVM(X_train_os, y_train_os, \n",
    "                                                       lower_C, upper_C,\n",
    "                                                       lower_gamma, upper_gamma)\n",
    "\n",
    "model_names.append('best_model_1')\n",
    "models.append(best_model_1)\n",
    "accs.append(best_score_1)\n",
    "training_times.append(training_time_1)"
   ]
  },
  {
   "cell_type": "code",
   "execution_count": 14,
   "id": "b4c5da4a",
   "metadata": {},
   "outputs": [
    {
     "name": "stdout",
     "output_type": "stream",
     "text": [
      "Best Parameters: {'C': 35568.38722168836, 'gamma': 0.9611793316058178}\n",
      "Best Acc Score: 0.7285\n",
      "Training time: 95.7993\n",
      "\n",
      "Classification Report:\n",
      "              precision    recall  f1-score   support\n",
      "\n",
      "           0       0.70      0.67      0.68      1907\n",
      "           1       0.64      0.66      0.65      2269\n",
      "           2       0.85      0.85      0.85      2269\n",
      "\n",
      "    accuracy                           0.73      6445\n",
      "   macro avg       0.73      0.73      0.73      6445\n",
      "weighted avg       0.73      0.73      0.73      6445\n",
      "\n"
     ]
    },
    {
     "data": {
      "image/png": "[encoded data removed]",
      "text/plain": [
       "<Figure size 300x300 with 1 Axes>"
      ]
     },
     "metadata": {},
     "output_type": "display_data"
    }
   ],
   "source": [
    "# Random search - round 2: try small gamma and large C\n",
    "# The idea of small gamma and large C: https://scikit-learn.org/stable/auto_examples/svm/plot_rbf_parameters.html \n",
    "\n",
    "lower_C=50\n",
    "upper_C=50000\n",
    "lower_gamma=0.1 \n",
    "upper_gamma=1\n",
    "\n",
    "best_model_2, best_score_2, training_time_2 = tune_SVM(X_train_os, y_train_os, \n",
    "                                                       lower_C, upper_C,\n",
    "                                                       lower_gamma, upper_gamma)\n",
    "\n",
    "model_names.append('best_model_2')\n",
    "models.append(best_model_2)\n",
    "accs.append(best_score_2)\n",
    "training_times.append(training_time_2)"
   ]
  },
  {
   "cell_type": "code",
   "execution_count": 15,
   "id": "23754d91",
   "metadata": {},
   "outputs": [
    {
     "name": "stdout",
     "output_type": "stream",
     "text": [
      "Best Parameters: {'C': 4737.804615170226, 'gamma': 1.058494725632029}\n",
      "Best Acc Score: 0.7292\n",
      "Training time: 103.8188\n",
      "\n",
      "Classification Report:\n",
      "              precision    recall  f1-score   support\n",
      "\n",
      "           0       0.70      0.65      0.68      1907\n",
      "           1       0.63      0.67      0.65      2269\n",
      "           2       0.85      0.85      0.85      2269\n",
      "\n",
      "    accuracy                           0.73      6445\n",
      "   macro avg       0.73      0.73      0.73      6445\n",
      "weighted avg       0.73      0.73      0.73      6445\n",
      "\n"
     ]
    },
    {
     "data": {
      "image/png": "[encoded data removed]",
      "text/plain": [
       "<Figure size 300x300 with 1 Axes>"
      ]
     },
     "metadata": {},
     "output_type": "display_data"
    }
   ],
   "source": [
    "# Random search - round 3, try decreasing C because large C is computational expensive\n",
    "lower_C=50\n",
    "upper_C=5000\n",
    "lower_gamma=0.1 \n",
    "upper_gamma=1\n",
    "\n",
    "best_model_3, best_score_3, training_time_3 = tune_SVM(X_train_os, y_train_os, \n",
    "                                                       lower_C, upper_C,\n",
    "                                                       lower_gamma, upper_gamma)\n",
    "\n",
    "model_names.append('best_model_3')\n",
    "models.append(best_model_3)\n",
    "accs.append(best_score_3)\n",
    "training_times.append(training_time_3)\n",
    "\n",
    "# The idea of small gamma and large C: https://scikit-learn.org/stable/auto_examples/svm/plot_rbf_parameters.html "
   ]
  },
  {
   "cell_type": "code",
   "execution_count": 16,
   "id": "ca233144",
   "metadata": {},
   "outputs": [
    {
     "name": "stdout",
     "output_type": "stream",
     "text": [
      "Best Parameters: {'C': 45.143245738892865, 'gamma': 0.7768489698271543}\n",
      "Best Acc Score: 0.7297\n",
      "Training time: 57.9959\n",
      "\n",
      "Classification Report:\n",
      "              precision    recall  f1-score   support\n",
      "\n",
      "           0       0.69      0.68      0.69      1907\n",
      "           1       0.65      0.64      0.64      2269\n",
      "           2       0.84      0.86      0.85      2269\n",
      "\n",
      "    accuracy                           0.73      6445\n",
      "   macro avg       0.73      0.73      0.73      6445\n",
      "weighted avg       0.73      0.73      0.73      6445\n",
      "\n"
     ]
    },
    {
     "data": {
      "image/png": "[encoded data removed]",
      "text/plain": [
       "<Figure size 300x300 with 1 Axes>"
      ]
     },
     "metadata": {},
     "output_type": "display_data"
    }
   ],
   "source": [
    "# Random search - round 4, further decreasing C\n",
    "lower_C=2\n",
    "upper_C=100\n",
    "lower_gamma=0.1 \n",
    "upper_gamma=1\n",
    "\n",
    "best_model_4, best_score_4, training_time_4 = tune_SVM(X_train_os, y_train_os, \n",
    "                                                       lower_C, upper_C,\n",
    "                                                       lower_gamma, upper_gamma)\n",
    "\n",
    "model_names.append('best_model_4')\n",
    "models.append(best_model_4)\n",
    "accs.append(best_score_4)\n",
    "training_times.append(training_time_4)\n",
    "\n",
    "# the choice of small gamma and large C - ref: https://scikit-learn.org/stable/auto_examples/svm/plot_rbf_parameters.html"
   ]
  },
  {
   "cell_type": "code",
   "execution_count": 17,
   "id": "bddeb7f0",
   "metadata": {},
   "outputs": [
    {
     "name": "stdout",
     "output_type": "stream",
     "text": [
      "Best Parameters: {'C': 20.184802700387333, 'gamma': 0.6156592167669666}\n",
      "Best Acc Score: 0.7306\n",
      "Training time: 51.8797\n",
      "\n",
      "Classification Report:\n",
      "              precision    recall  f1-score   support\n",
      "\n",
      "           0       0.69      0.70      0.70      1907\n",
      "           1       0.66      0.62      0.64      2269\n",
      "           2       0.83      0.86      0.85      2269\n",
      "\n",
      "    accuracy                           0.73      6445\n",
      "   macro avg       0.73      0.73      0.73      6445\n",
      "weighted avg       0.73      0.73      0.73      6445\n",
      "\n"
     ]
    },
    {
     "data": {
      "image/png": "[encoded data removed]",
      "text/plain": [
       "<Figure size 300x300 with 1 Axes>"
      ]
     },
     "metadata": {},
     "output_type": "display_data"
    }
   ],
   "source": [
    "# Random search - round 5, further decreasing C\n",
    "lower_C=1\n",
    "upper_C=50\n",
    "lower_gamma=0.1 \n",
    "upper_gamma=1\n",
    "\n",
    "best_model_5, best_score_5, training_time_5 = tune_SVM(X_train_os, y_train_os, \n",
    "                                                       lower_C, upper_C,\n",
    "                                                       lower_gamma, upper_gamma)\n",
    "\n",
    "model_names.append('best_model_5')\n",
    "models.append(best_model_5)\n",
    "accs.append(best_score_5)\n",
    "training_times.append(training_time_5)\n",
    "\n",
    "# the choice of small gamma and large C - ref: https://scikit-learn.org/stable/auto_examples/svm/plot_rbf_parameters.html"
   ]
  },
  {
   "cell_type": "code",
   "execution_count": 18,
   "id": "470cf7bb",
   "metadata": {},
   "outputs": [
    {
     "name": "stdout",
     "output_type": "stream",
     "text": [
      "Best Parameters: {'C': 3.5176637250888256, 'gamma': 0.7868720667965234}\n",
      "Best Acc Score: 0.7314\n",
      "Training time: 50.7604\n",
      "\n",
      "Classification Report:\n",
      "              precision    recall  f1-score   support\n",
      "\n",
      "           0       0.70      0.69      0.69      1907\n",
      "           1       0.65      0.63      0.64      2269\n",
      "           2       0.83      0.87      0.85      2269\n",
      "\n",
      "    accuracy                           0.73      6445\n",
      "   macro avg       0.73      0.73      0.73      6445\n",
      "weighted avg       0.73      0.73      0.73      6445\n",
      "\n"
     ]
    },
    {
     "data": {
      "image/png": "[encoded data removed]",
      "text/plain": [
       "<Figure size 300x300 with 1 Axes>"
      ]
     },
     "metadata": {},
     "output_type": "display_data"
    }
   ],
   "source": [
    "# Perform random search - round 6, try decreasing C\n",
    "\n",
    "# ref: https://scikit-learn.org/stable/auto_examples/svm/plot_rbf_parameters.html\n",
    "# \"Finally, for some values of gamma we get equally performing models when C becomes very large.\"\n",
    "# \"This suggests that the set of support vectors does not change anymore. The radius of the RBF kernel alone acts as a good structural regularizer. \"\n",
    "# \"Increasing C further doesn’t help, likely because there are no more training points in violation (inside the margin or wrongly classified), or at least no better solution can be found.\" \n",
    "# \"Scores being equal, it may make sense to use the smaller C values, since very high C values typically increase fitting time.\"\n",
    "# So just keep it simple..\n",
    "\n",
    "lower_C=1\n",
    "upper_C=20\n",
    "lower_gamma=0.1 \n",
    "upper_gamma=1\n",
    "\n",
    "best_model_6, best_score_6, training_time_6 = tune_SVM(X_train_os, y_train_os, \n",
    "                                                       lower_C, upper_C,\n",
    "                                                       lower_gamma, upper_gamma)\n",
    "\n",
    "model_names.append('best_model_6')\n",
    "models.append(best_model_6)\n",
    "accs.append(best_score_6)\n",
    "training_times.append(training_time_6)\n",
    "\n"
   ]
  },
  {
   "cell_type": "markdown",
   "id": "ff7de1e4",
   "metadata": {},
   "source": [
    "### 3.2. Compare results on different tuning implementation"
   ]
  },
  {
   "cell_type": "code",
   "execution_count": 19,
   "id": "0cec295e",
   "metadata": {
    "scrolled": true
   },
   "outputs": [
    {
     "data": {
      "text/html": [
       "<div>\n",
       "<style scoped>\n",
       "    .dataframe tbody tr th:only-of-type {\n",
       "        vertical-align: middle;\n",
       "    }\n",
       "\n",
       "    .dataframe tbody tr th {\n",
       "        vertical-align: top;\n",
       "    }\n",
       "\n",
       "    .dataframe thead th {\n",
       "        text-align: right;\n",
       "    }\n",
       "</style>\n",
       "<table border=\"1\" class=\"dataframe\">\n",
       "  <thead>\n",
       "    <tr style=\"text-align: right;\">\n",
       "      <th></th>\n",
       "      <th>Model Name</th>\n",
       "      <th>Model</th>\n",
       "      <th>Val_acc</th>\n",
       "      <th>Training Time</th>\n",
       "    </tr>\n",
       "  </thead>\n",
       "  <tbody>\n",
       "    <tr>\n",
       "      <th>0</th>\n",
       "      <td>svm_baseline</td>\n",
       "      <td>SVC(random_state=66)</td>\n",
       "      <td>0.615740</td>\n",
       "      <td>7.253554</td>\n",
       "    </tr>\n",
       "    <tr>\n",
       "      <th>1</th>\n",
       "      <td>svm_SMOTE</td>\n",
       "      <td>SVC(random_state=66)</td>\n",
       "      <td>0.633980</td>\n",
       "      <td>10.380503</td>\n",
       "    </tr>\n",
       "    <tr>\n",
       "      <th>2</th>\n",
       "      <td>svm_sub</td>\n",
       "      <td>SVC(random_state=66)</td>\n",
       "      <td>0.605120</td>\n",
       "      <td>10.100967</td>\n",
       "    </tr>\n",
       "    <tr>\n",
       "      <th>3</th>\n",
       "      <td>best_model_1</td>\n",
       "      <td>SVC(C=1.015847611445441, gamma=0.9192673847220...</td>\n",
       "      <td>0.717300</td>\n",
       "      <td>45.169882</td>\n",
       "    </tr>\n",
       "    <tr>\n",
       "      <th>4</th>\n",
       "      <td>best_model_2</td>\n",
       "      <td>SVC(C=35568.38722168836, gamma=0.9611793316058...</td>\n",
       "      <td>0.728472</td>\n",
       "      <td>95.799342</td>\n",
       "    </tr>\n",
       "    <tr>\n",
       "      <th>5</th>\n",
       "      <td>best_model_3</td>\n",
       "      <td>SVC(C=4737.804615170226, gamma=1.058494725632029)</td>\n",
       "      <td>0.729247</td>\n",
       "      <td>103.818757</td>\n",
       "    </tr>\n",
       "    <tr>\n",
       "      <th>6</th>\n",
       "      <td>best_model_4</td>\n",
       "      <td>SVC(C=45.143245738892865, gamma=0.776848969827...</td>\n",
       "      <td>0.729713</td>\n",
       "      <td>57.995888</td>\n",
       "    </tr>\n",
       "    <tr>\n",
       "      <th>7</th>\n",
       "      <td>best_model_5</td>\n",
       "      <td>SVC(C=20.184802700387333, gamma=0.615659216766...</td>\n",
       "      <td>0.730644</td>\n",
       "      <td>51.879720</td>\n",
       "    </tr>\n",
       "    <tr>\n",
       "      <th>8</th>\n",
       "      <td>best_model_6</td>\n",
       "      <td>SVC(C=3.5176637250888256, gamma=0.786872066796...</td>\n",
       "      <td>0.731420</td>\n",
       "      <td>50.760412</td>\n",
       "    </tr>\n",
       "  </tbody>\n",
       "</table>\n",
       "</div>"
      ],
      "text/plain": [
       "     Model Name                                              Model   Val_acc  \\\n",
       "0  svm_baseline                               SVC(random_state=66)  0.615740   \n",
       "1     svm_SMOTE                               SVC(random_state=66)  0.633980   \n",
       "2       svm_sub                               SVC(random_state=66)  0.605120   \n",
       "3  best_model_1  SVC(C=1.015847611445441, gamma=0.9192673847220...  0.717300   \n",
       "4  best_model_2  SVC(C=35568.38722168836, gamma=0.9611793316058...  0.728472   \n",
       "5  best_model_3  SVC(C=4737.804615170226, gamma=1.058494725632029)  0.729247   \n",
       "6  best_model_4  SVC(C=45.143245738892865, gamma=0.776848969827...  0.729713   \n",
       "7  best_model_5  SVC(C=20.184802700387333, gamma=0.615659216766...  0.730644   \n",
       "8  best_model_6  SVC(C=3.5176637250888256, gamma=0.786872066796...  0.731420   \n",
       "\n",
       "   Training Time  \n",
       "0       7.253554  \n",
       "1      10.380503  \n",
       "2      10.100967  \n",
       "3      45.169882  \n",
       "4      95.799342  \n",
       "5     103.818757  \n",
       "6      57.995888  \n",
       "7      51.879720  \n",
       "8      50.760412  "
      ]
     },
     "execution_count": 19,
     "metadata": {},
     "output_type": "execute_result"
    }
   ],
   "source": [
    "# Compare results from previous runs.\n",
    "summary = {\n",
    "    'Model Name': model_names,\n",
    "    'Model': models,\n",
    "    'Val_acc': accs,\n",
    "    'Training Time': training_times\n",
    "}\n",
    "\n",
    "# Create a DataFrame from the dictionary\n",
    "model_summary = pd.DataFrame(summary)\n",
    "model_summary.to_csv(\"model_summary_SVM.csv\", index=False)\n",
    "model_summary"
   ]
  },
  {
   "cell_type": "markdown",
   "id": "9f7f8ee7",
   "metadata": {},
   "source": [
    "### 3.3. Decide and save best model"
   ]
  },
  {
   "cell_type": "code",
   "execution_count": 20,
   "id": "539d23f8",
   "metadata": {},
   "outputs": [],
   "source": [
    "# Exactact the best final model\n",
    "best_index = summary['Val_acc'].index(max(summary['Val_acc']))\n",
    "best_model_final = summary['Model'][best_index]"
   ]
  },
  {
   "cell_type": "code",
   "execution_count": 21,
   "id": "ab22503c",
   "metadata": {},
   "outputs": [
    {
     "data": {
      "text/plain": [
       "3.074256181716919"
      ]
     },
     "execution_count": 21,
     "metadata": {},
     "output_type": "execute_result"
    }
   ],
   "source": [
    "# Fit the best model on the training set again and calculate the training time\n",
    "t0=time.time()\n",
    "best_model_final.fit(X_train_os, y_train_os)\n",
    "t1=time.time()\n",
    "training_time = t1-t0\n",
    "training_time"
   ]
  },
  {
   "cell_type": "code",
   "execution_count": 25,
   "id": "abf10578",
   "metadata": {},
   "outputs": [
    {
     "data": {
      "text/plain": [
       "['best_SVM.joblib']"
      ]
     },
     "execution_count": 25,
     "metadata": {},
     "output_type": "execute_result"
    }
   ],
   "source": [
    "# Save best SVM model\n",
    "dump(best_model_final, 'best_SVM.joblib')"
   ]
  },
  {
   "cell_type": "markdown",
   "id": "b33670b1",
   "metadata": {},
   "source": [
    "## 4. Test the best model on unseen test set"
   ]
  },
  {
   "cell_type": "code",
   "execution_count": 26,
   "id": "36d20259",
   "metadata": {},
   "outputs": [
    {
     "name": "stdout",
     "output_type": "stream",
     "text": [
      "Classification Report on Test Set\n",
      "              precision    recall  f1-score   support\n",
      "\n",
      "           0       0.77      0.74      0.75       477\n",
      "           1       0.68      0.67      0.68       567\n",
      "           2       0.63      0.71      0.67       256\n",
      "\n",
      "    accuracy                           0.70      1300\n",
      "   macro avg       0.70      0.70      0.70      1300\n",
      "weighted avg       0.70      0.70      0.70      1300\n",
      "\n"
     ]
    },
    {
     "data": {
      "image/png": "[encoded data removed]",
      "text/plain": [
       "<Figure size 300x300 with 1 Axes>"
      ]
     },
     "metadata": {},
     "output_type": "display_data"
    }
   ],
   "source": [
    "# Test best model on unseen test set\n",
    "final_test('unseen.csv', 'best_SVM.joblib')"
   ]
  },
  {
   "cell_type": "markdown",
   "id": "1d86dabe",
   "metadata": {},
   "source": [
    "## Appendix - other experiments and implementations"
   ]
  },
  {
   "cell_type": "code",
   "execution_count": 11,
   "id": "5fb5c79e",
   "metadata": {},
   "outputs": [],
   "source": [
    "# Try different kernels\n",
    "def try_kernel_svm(X, y, kernel):\n",
    "    \"\"\"Fit and evaluate baseline model.\"\"\"\n",
    "    \n",
    "    # 1. Creat model\n",
    "    svm_baseline = SVC(random_state=66, kernel=kernel)\n",
    "\n",
    "    # 2. Fit and evaluate baseline model\n",
    "    T0_base = time.time()\n",
    "    y_pred_base = cross_val_predict(svm_baseline, X, y, cv=5)\n",
    "    T1_base = time.time()\n",
    "    training_time_base = T1_base - T0_base\n",
    "    acc = accuracy_score(y, y_pred_base)\n",
    "\n",
    "    # 3. Display metrics\n",
    "    print(f\"Acc: {acc:.4f}\")\n",
    "    print(\"Evaluation with cross-validation\")\n",
    "    print(\"Baseline Classification Report:\")\n",
    "    print(classification_report(y, y_pred_base))\n",
    "    print(f\"Training time: {training_time_base:.4f}\")\n",
    "\n",
    "    cm = confusion_matrix(y, y_pred_base)\n",
    "    plt.figure(figsize=(3, 3))\n",
    "    sns.heatmap(cm, annot=True, fmt='d', cmap='Blues', cbar=False)\n",
    "    plt.xlabel('Predicted')\n",
    "    plt.ylabel('True')\n",
    "    plt.title('CM for baseline SVM')\n",
    "    plt.show()\n",
    "    \n",
    "    return svm_baseline, acc,training_time_base"
   ]
  },
  {
   "cell_type": "code",
   "execution_count": 5,
   "id": "31f2c2f1",
   "metadata": {},
   "outputs": [],
   "source": [
    "# for tring normalization or polynomial scaling\n",
    "\n",
    "def try_scaling_svm(csv, scaling):\n",
    "    \"\"\"\n",
    "    Change scaling from standardization to a custom one.\n",
    "    Use SMOTE oversampling\n",
    "    Model-level tuning is the same: uses random search and hyperparameters includes C, gamma, kernel.\n",
    "    \"\"\"\n",
    "    train_df = pd.read_csv(csv)\n",
    "\n",
    "    X = train_df.iloc[:, :12]\n",
    "    y = train_df.iloc[:, 12]\n",
    "\n",
    "    smote = SMOTE(sampling_strategy='minority', random_state=66)\n",
    "    X_os, y_os = smote.fit_resample(X, y)\n",
    "\n",
    "    if scaling == 'normalization':\n",
    "        normalizer = Normalizer()\n",
    "        X_os_scaled = normalizer.fit_transform(X_os)\n",
    "    elif scaling == 'polynomial':\n",
    "        Poly = PolynomialFeatures()\n",
    "        X_os_scaled = Poly.fit_transform(X_os)\n",
    "    \n",
    "    return try_kernel_svm(X_os_scaled, y_os, 'rbf')\n",
    "#     return X_os_scaled, y_os"
   ]
  },
  {
   "cell_type": "code",
   "execution_count": 6,
   "id": "3e505a7a",
   "metadata": {},
   "outputs": [
    {
     "name": "stdout",
     "output_type": "stream",
     "text": [
      "Acc: 0.4537\n",
      "Evaluation with cross-validation\n",
      "Baseline Classification Report:\n",
      "              precision    recall  f1-score   support\n",
      "\n",
      "           0       0.49      0.56      0.52      1907\n",
      "           1       0.47      0.44      0.45      2269\n",
      "           2       0.33      0.29      0.31      1021\n",
      "\n",
      "    accuracy                           0.45      5197\n",
      "   macro avg       0.43      0.43      0.43      5197\n",
      "weighted avg       0.45      0.45      0.45      5197\n",
      "\n",
      "Baseline Training time: 4.4401\n"
     ]
    },
    {
     "data": {
      "image/png": "[encoded data removed]",
      "text/plain": [
       "<Figure size 300x300 with 1 Axes>"
      ]
     },
     "metadata": {},
     "output_type": "display_data"
    },
    {
     "data": {
      "text/plain": [
       "(SVC(kernel='sigmoid', random_state=66),\n",
       " 0.45372330190494514,\n",
       " 4.440092086791992)"
      ]
     },
     "execution_count": 6,
     "metadata": {},
     "output_type": "execute_result"
    }
   ],
   "source": [
    "try_kernel_svm(X_train, y_train, 'sigmoid')"
   ]
  },
  {
   "cell_type": "code",
   "execution_count": 7,
   "id": "d9649f21",
   "metadata": {},
   "outputs": [
    {
     "name": "stdout",
     "output_type": "stream",
     "text": [
      "Acc: 0.5617\n",
      "Evaluation with cross-validation\n",
      "Baseline Classification Report:\n",
      "              precision    recall  f1-score   support\n",
      "\n",
      "           0       0.64      0.64      0.64      1907\n",
      "           1       0.51      0.72      0.60      2269\n",
      "           2       0.61      0.05      0.10      1021\n",
      "\n",
      "    accuracy                           0.56      5197\n",
      "   macro avg       0.59      0.47      0.45      5197\n",
      "weighted avg       0.58      0.56      0.52      5197\n",
      "\n",
      "Baseline Training time: 6.5458\n"
     ]
    },
    {
     "data": {
      "image/png": "[encoded data removed]",
      "text/plain": [
       "<Figure size 300x300 with 1 Axes>"
      ]
     },
     "metadata": {},
     "output_type": "display_data"
    },
    {
     "data": {
      "text/plain": [
       "(SVC(kernel='linear', random_state=66), 0.5616701943428901, 6.545801877975464)"
      ]
     },
     "execution_count": 7,
     "metadata": {},
     "output_type": "execute_result"
    }
   ],
   "source": [
    "try_kernel_svm(X_train, y_train, 'linear')"
   ]
  },
  {
   "cell_type": "code",
   "execution_count": 8,
   "id": "61cb7b49",
   "metadata": {},
   "outputs": [
    {
     "name": "stdout",
     "output_type": "stream",
     "text": [
      "Acc: 0.5784\n",
      "Evaluation with cross-validation\n",
      "Baseline Classification Report:\n",
      "              precision    recall  f1-score   support\n",
      "\n",
      "           0       0.69      0.53      0.60      1907\n",
      "           1       0.52      0.76      0.62      2269\n",
      "           2       0.66      0.27      0.38      1021\n",
      "\n",
      "    accuracy                           0.58      5197\n",
      "   macro avg       0.62      0.52      0.53      5197\n",
      "weighted avg       0.61      0.58      0.56      5197\n",
      "\n",
      "Baseline Training time: 5.6553\n"
     ]
    },
    {
     "data": {
      "image/png": "[encoded data removed]",
      "text/plain": [
       "<Figure size 300x300 with 1 Axes>"
      ]
     },
     "metadata": {},
     "output_type": "display_data"
    },
    {
     "data": {
      "text/plain": [
       "(SVC(kernel='poly', random_state=66), 0.578410621512411, 5.6553099155426025)"
      ]
     },
     "execution_count": 8,
     "metadata": {},
     "output_type": "execute_result"
    }
   ],
   "source": [
    "try_kernel_svm(X_train, y_train, 'poly')"
   ]
  },
  {
   "cell_type": "code",
   "execution_count": 9,
   "id": "f566b97f",
   "metadata": {},
   "outputs": [
    {
     "name": "stdout",
     "output_type": "stream",
     "text": [
      "Acc: 0.4298\n",
      "Evaluation with cross-validation\n",
      "Baseline Classification Report:\n",
      "              precision    recall  f1-score   support\n",
      "\n",
      "           0       0.50      0.19      0.28      1907\n",
      "           1       0.37      0.36      0.36      2269\n",
      "           2       0.46      0.69      0.55      2269\n",
      "\n",
      "    accuracy                           0.43      6445\n",
      "   macro avg       0.44      0.42      0.40      6445\n",
      "weighted avg       0.44      0.43      0.41      6445\n",
      "\n",
      "Baseline Training time: 14.4237\n"
     ]
    },
    {
     "data": {
      "image/png": "[encoded data removed]",
      "text/plain": [
       "<Figure size 300x300 with 1 Axes>"
      ]
     },
     "metadata": {},
     "output_type": "display_data"
    },
    {
     "data": {
      "text/plain": [
       "(SVC(random_state=66), 0.42979053529868116, 14.423656940460205)"
      ]
     },
     "execution_count": 9,
     "metadata": {},
     "output_type": "execute_result"
    }
   ],
   "source": [
    "try_scaling_svm(\"train.csv\", 'normalization')"
   ]
  },
  {
   "cell_type": "code",
   "execution_count": 10,
   "id": "8dcb739c",
   "metadata": {},
   "outputs": [
    {
     "name": "stdout",
     "output_type": "stream",
     "text": [
      "Acc: 0.4160\n",
      "Evaluation with cross-validation\n",
      "Baseline Classification Report:\n",
      "              precision    recall  f1-score   support\n",
      "\n",
      "           0       0.45      0.24      0.32      1907\n",
      "           1       0.36      0.35      0.35      2269\n",
      "           2       0.45      0.63      0.52      2269\n",
      "\n",
      "    accuracy                           0.42      6445\n",
      "   macro avg       0.42      0.41      0.40      6445\n",
      "weighted avg       0.42      0.42      0.40      6445\n",
      "\n",
      "Baseline Training time: 25.5395\n"
     ]
    },
    {
     "data": {
      "image/png": "[encoded data removed]",
      "text/plain": [
       "<Figure size 300x300 with 1 Axes>"
      ]
     },
     "metadata": {},
     "output_type": "display_data"
    },
    {
     "data": {
      "text/plain": [
       "(SVC(random_state=66), 0.41598138091543835, 25.53946089744568)"
      ]
     },
     "execution_count": 10,
     "metadata": {},
     "output_type": "execute_result"
    }
   ],
   "source": [
    "try_scaling_svm(\"train.csv\", 'polynomial')"
   ]
  }
 ],
 "metadata": {
  "kernelspec": {
   "display_name": "Python 3 (ipykernel)",
   "language": "python",
   "name": "python3"
  },
  "language_info": {
   "codemirror_mode": {
    "name": "ipython",
    "version": 3
   },
   "file_extension": ".py",
   "mimetype": "text/x-python",
   "name": "python",
   "nbconvert_exporter": "python",
   "pygments_lexer": "ipython3",
   "version": "3.8.18"
  }
 },
 "nbformat": 4,
 "nbformat_minor": 5
}
